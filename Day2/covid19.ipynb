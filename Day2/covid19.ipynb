{
 "cells": [
  {
   "cell_type": "code",
   "execution_count": 68,
   "id": "compliant-dealer",
   "metadata": {},
   "outputs": [],
   "source": [
    "import pandas as pd\n",
    "import matplotlib as plt\n",
    "import numpy as np\n",
    "from numpy import array\n",
    "import matplotlib.pyplot as plt\n",
    "import seaborn as sns\n",
    "from sklearn.preprocessing import MinMaxScaler\n",
    "from matplotlib import font_manager, rc\n",
    "font_name = font_manager.FontProperties(fname=\"c:/Windows/Fonts/malgun.ttf\").get_name()\n",
    "rc('font', family=font_name)\n",
    "\n",
    "# 다변량\n",
    "def split_mult_data(data, timestep, lag):\n",
    "    x, y = [], []\n",
    "    for i in range(len(data)):\n",
    "        end_ix = i + timestep\n",
    "        out_end_ix = end_ix + lag\n",
    "        if out_end_ix > len(data):\n",
    "            break;\n",
    "        seq_x, seq_y = data[i:end_ix, :], data[end_ix:out_end_ix, 0]\n",
    "        x.append(seq_x)\n",
    "        y.append(seq_y)\n",
    "    return array(x), array(y)\n",
    "\n",
    "# 단일\n",
    "def split_data(data, timestep):\n",
    "    x, y = [], []\n",
    "    for i in range(len(data)):\n",
    "        end_ix = i + timestep\n",
    "        if end_ix > len(data)-1:\n",
    "            break\n",
    "        seq_x, seq_y = data[i:end_ix], data[end_ix]\n",
    "        x.append(seq_x)\n",
    "        y.append(seq_y)\n",
    "    return array(x), array(y)\n",
    "\n",
    "# 데이터 분할 함수 : 6.2.2\n",
    "def split(data_x, data_y):\n",
    "    train_size = int(len(data_x)*0.6)\n",
    "    val_size = int(len(data_x)*0.8)\n",
    "    \n",
    "    data_train_x = data_x[:train_size]\n",
    "    data_val_x = data_x[train_size:val_size]\n",
    "    data_test_x = data_x[val_size:]\n",
    "    \n",
    "    data_train_y = data_y[:train_size]\n",
    "    data_val_y = data_y[train_size:val_size]\n",
    "    data_test_y = data_y[val_size:] \n",
    "    \n",
    "    return data_train_x, data_val_x, data_test_x, data_train_y, data_val_y, data_test_y\n",
    "\n",
    "def normalization(data_train, data_val, data_test):\n",
    "    scaler = MinMaxScaler() #StandardScaler\n",
    "    scaler.fit(data_train)\n",
    "    n_data_train = scaler.transform(data_train)\n",
    "    n_data_val = scaler.transform(data_val)\n",
    "    n_data_test = scaler.transform(data_test)\n",
    "    return n_data_train, n_data_val, n_data_test"
   ]
  },
  {
   "cell_type": "markdown",
   "id": "fifty-genome",
   "metadata": {},
   "source": [
    "# 뉴스 데이터"
   ]
  },
  {
   "cell_type": "code",
   "execution_count": 28,
   "id": "nearby-flexibility",
   "metadata": {
    "scrolled": false
   },
   "outputs": [
    {
     "data": {
      "text/html": [
       "<div>\n",
       "<style scoped>\n",
       "    .dataframe tbody tr th:only-of-type {\n",
       "        vertical-align: middle;\n",
       "    }\n",
       "\n",
       "    .dataframe tbody tr th {\n",
       "        vertical-align: top;\n",
       "    }\n",
       "\n",
       "    .dataframe thead th {\n",
       "        text-align: right;\n",
       "    }\n",
       "</style>\n",
       "<table border=\"1\" class=\"dataframe\">\n",
       "  <thead>\n",
       "    <tr style=\"text-align: right;\">\n",
       "      <th></th>\n",
       "      <th>일자</th>\n",
       "      <th>제목</th>\n",
       "    </tr>\n",
       "  </thead>\n",
       "  <tbody>\n",
       "    <tr>\n",
       "      <th>0</th>\n",
       "      <td>20210325</td>\n",
       "      <td>\"영국, 백신 접종 증빙시 술집 출입시 사회적 거리두기 완화 검토\"</td>\n",
       "    </tr>\n",
       "    <tr>\n",
       "      <th>1</th>\n",
       "      <td>20210322</td>\n",
       "      <td>[코로나19] 정부, 사회적 거리두기 조정안 26일 발표 내주 적용</td>\n",
       "    </tr>\n",
       "    <tr>\n",
       "      <th>2</th>\n",
       "      <td>20210322</td>\n",
       "      <td>정부, 사회적 거리두기 조정안 26일 발표 내주 적용 [종합]</td>\n",
       "    </tr>\n",
       "    <tr>\n",
       "      <th>3</th>\n",
       "      <td>20210322</td>\n",
       "      <td>정부 “다음주 적용 ‘사회적 거리두기’ 조정안 26일 결정”</td>\n",
       "    </tr>\n",
       "    <tr>\n",
       "      <th>4</th>\n",
       "      <td>20210322</td>\n",
       "      <td>'사회적 거리두기' 조정안 26일 결정 \"지속적인 정체 상황\"</td>\n",
       "    </tr>\n",
       "    <tr>\n",
       "      <th>...</th>\n",
       "      <td>...</td>\n",
       "      <td>...</td>\n",
       "    </tr>\n",
       "    <tr>\n",
       "      <th>4227</th>\n",
       "      <td>20200229</td>\n",
       "      <td>코로나19 확진자 41.7% 감염원 '불분명' 방역당국 \"사회적 거리두기 필요\"</td>\n",
       "    </tr>\n",
       "    <tr>\n",
       "      <th>4228</th>\n",
       "      <td>20200229</td>\n",
       "      <td>주말 외출 NO 집회 NO ‘사회적 거리두기’ 동참하세요 [코로나 이겨내자]</td>\n",
       "    </tr>\n",
       "    <tr>\n",
       "      <th>4229</th>\n",
       "      <td>20200228</td>\n",
       "      <td>온 국민 ‘사회적 거리두기’ 코로나 고비 넘자</td>\n",
       "    </tr>\n",
       "    <tr>\n",
       "      <th>4230</th>\n",
       "      <td>20200227</td>\n",
       "      <td>[오늘의시선] ‘사회적 거리두기’ 절실한 이유</td>\n",
       "    </tr>\n",
       "    <tr>\n",
       "      <th>4231</th>\n",
       "      <td>20200225</td>\n",
       "      <td>열 살짝 나면 집에서 사나흘 ‘사회적 거리두기' 실천하자</td>\n",
       "    </tr>\n",
       "  </tbody>\n",
       "</table>\n",
       "<p>4232 rows × 2 columns</p>\n",
       "</div>"
      ],
      "text/plain": [
       "            일자                                            제목\n",
       "0     20210325         \"영국, 백신 접종 증빙시 술집 출입시 사회적 거리두기 완화 검토\"\n",
       "1     20210322         [코로나19] 정부, 사회적 거리두기 조정안 26일 발표 내주 적용\n",
       "2     20210322            정부, 사회적 거리두기 조정안 26일 발표 내주 적용 [종합]\n",
       "3     20210322             정부 “다음주 적용 ‘사회적 거리두기’ 조정안 26일 결정”\n",
       "4     20210322            '사회적 거리두기' 조정안 26일 결정 \"지속적인 정체 상황\"\n",
       "...        ...                                           ...\n",
       "4227  20200229  코로나19 확진자 41.7% 감염원 '불분명' 방역당국 \"사회적 거리두기 필요\"\n",
       "4228  20200229    주말 외출 NO 집회 NO ‘사회적 거리두기’ 동참하세요 [코로나 이겨내자]\n",
       "4229  20200228                     온 국민 ‘사회적 거리두기’ 코로나 고비 넘자\n",
       "4230  20200227                     [오늘의시선] ‘사회적 거리두기’ 절실한 이유\n",
       "4231  20200225               열 살짝 나면 집에서 사나흘 ‘사회적 거리두기' 실천하자\n",
       "\n",
       "[4232 rows x 2 columns]"
      ]
     },
     "execution_count": 28,
     "metadata": {},
     "output_type": "execute_result"
    }
   ],
   "source": [
    "# 사회적 거리두기 \n",
    "new_covid19 = pd.read_csv(\"NewsResult_20200120-20210325.csv\")\n",
    "new_covid19 = new_covid19[{'일자', '제목'}]\n",
    "\n",
    "new_covid19_plot = new_covid19\n",
    "new_covid19"
   ]
  },
  {
   "cell_type": "code",
   "execution_count": 23,
   "id": "powerful-discovery",
   "metadata": {},
   "outputs": [
    {
     "data": {
      "text/plain": [
       "0      2021-03-25\n",
       "1      2021-03-22\n",
       "2      2021-03-22\n",
       "3      2021-03-22\n",
       "4      2021-03-22\n",
       "          ...    \n",
       "4227   2020-02-29\n",
       "4228   2020-02-29\n",
       "4229   2020-02-28\n",
       "4230   2020-02-27\n",
       "4231   2020-02-25\n",
       "Name: 일자, Length: 4232, dtype: datetime64[ns]"
      ]
     },
     "execution_count": 23,
     "metadata": {},
     "output_type": "execute_result"
    }
   ],
   "source": [
    "date = new_covid19['일자'].astype('str')\n",
    "date= pd.to_datetime(date, format='%Y-%m-%d')\n",
    "date"
   ]
  },
  {
   "cell_type": "code",
   "execution_count": 24,
   "id": "superb-chest",
   "metadata": {},
   "outputs": [
    {
     "data": {
      "text/html": [
       "<div>\n",
       "<style scoped>\n",
       "    .dataframe tbody tr th:only-of-type {\n",
       "        vertical-align: middle;\n",
       "    }\n",
       "\n",
       "    .dataframe tbody tr th {\n",
       "        vertical-align: top;\n",
       "    }\n",
       "\n",
       "    .dataframe thead th {\n",
       "        text-align: right;\n",
       "    }\n",
       "</style>\n",
       "<table border=\"1\" class=\"dataframe\">\n",
       "  <thead>\n",
       "    <tr style=\"text-align: right;\">\n",
       "      <th></th>\n",
       "      <th>일자</th>\n",
       "      <th>제목</th>\n",
       "    </tr>\n",
       "  </thead>\n",
       "  <tbody>\n",
       "    <tr>\n",
       "      <th>0</th>\n",
       "      <td>2021-03-25</td>\n",
       "      <td>\"영국, 백신 접종 증빙시 술집 출입시 사회적 거리두기 완화 검토\"</td>\n",
       "    </tr>\n",
       "    <tr>\n",
       "      <th>1</th>\n",
       "      <td>2021-03-22</td>\n",
       "      <td>[코로나19] 정부, 사회적 거리두기 조정안 26일 발표 내주 적용</td>\n",
       "    </tr>\n",
       "    <tr>\n",
       "      <th>2</th>\n",
       "      <td>2021-03-22</td>\n",
       "      <td>정부, 사회적 거리두기 조정안 26일 발표 내주 적용 [종합]</td>\n",
       "    </tr>\n",
       "    <tr>\n",
       "      <th>3</th>\n",
       "      <td>2021-03-22</td>\n",
       "      <td>정부 “다음주 적용 ‘사회적 거리두기’ 조정안 26일 결정”</td>\n",
       "    </tr>\n",
       "    <tr>\n",
       "      <th>4</th>\n",
       "      <td>2021-03-22</td>\n",
       "      <td>'사회적 거리두기' 조정안 26일 결정 \"지속적인 정체 상황\"</td>\n",
       "    </tr>\n",
       "    <tr>\n",
       "      <th>...</th>\n",
       "      <td>...</td>\n",
       "      <td>...</td>\n",
       "    </tr>\n",
       "    <tr>\n",
       "      <th>4227</th>\n",
       "      <td>2020-02-29</td>\n",
       "      <td>코로나19 확진자 41.7% 감염원 '불분명' 방역당국 \"사회적 거리두기 필요\"</td>\n",
       "    </tr>\n",
       "    <tr>\n",
       "      <th>4228</th>\n",
       "      <td>2020-02-29</td>\n",
       "      <td>주말 외출 NO 집회 NO ‘사회적 거리두기’ 동참하세요 [코로나 이겨내자]</td>\n",
       "    </tr>\n",
       "    <tr>\n",
       "      <th>4229</th>\n",
       "      <td>2020-02-28</td>\n",
       "      <td>온 국민 ‘사회적 거리두기’ 코로나 고비 넘자</td>\n",
       "    </tr>\n",
       "    <tr>\n",
       "      <th>4230</th>\n",
       "      <td>2020-02-27</td>\n",
       "      <td>[오늘의시선] ‘사회적 거리두기’ 절실한 이유</td>\n",
       "    </tr>\n",
       "    <tr>\n",
       "      <th>4231</th>\n",
       "      <td>2020-02-25</td>\n",
       "      <td>열 살짝 나면 집에서 사나흘 ‘사회적 거리두기' 실천하자</td>\n",
       "    </tr>\n",
       "  </tbody>\n",
       "</table>\n",
       "<p>4232 rows × 2 columns</p>\n",
       "</div>"
      ],
      "text/plain": [
       "             일자                                            제목\n",
       "0    2021-03-25         \"영국, 백신 접종 증빙시 술집 출입시 사회적 거리두기 완화 검토\"\n",
       "1    2021-03-22         [코로나19] 정부, 사회적 거리두기 조정안 26일 발표 내주 적용\n",
       "2    2021-03-22            정부, 사회적 거리두기 조정안 26일 발표 내주 적용 [종합]\n",
       "3    2021-03-22             정부 “다음주 적용 ‘사회적 거리두기’ 조정안 26일 결정”\n",
       "4    2021-03-22            '사회적 거리두기' 조정안 26일 결정 \"지속적인 정체 상황\"\n",
       "...         ...                                           ...\n",
       "4227 2020-02-29  코로나19 확진자 41.7% 감염원 '불분명' 방역당국 \"사회적 거리두기 필요\"\n",
       "4228 2020-02-29    주말 외출 NO 집회 NO ‘사회적 거리두기’ 동참하세요 [코로나 이겨내자]\n",
       "4229 2020-02-28                     온 국민 ‘사회적 거리두기’ 코로나 고비 넘자\n",
       "4230 2020-02-27                     [오늘의시선] ‘사회적 거리두기’ 절실한 이유\n",
       "4231 2020-02-25               열 살짝 나면 집에서 사나흘 ‘사회적 거리두기' 실천하자\n",
       "\n",
       "[4232 rows x 2 columns]"
      ]
     },
     "execution_count": 24,
     "metadata": {},
     "output_type": "execute_result"
    }
   ],
   "source": [
    "new_covid19['일자'] = date\n",
    "new_covid19"
   ]
  },
  {
   "cell_type": "code",
   "execution_count": 25,
   "id": "interim-worst",
   "metadata": {},
   "outputs": [
    {
     "data": {
      "text/html": [
       "<div>\n",
       "<style scoped>\n",
       "    .dataframe tbody tr th:only-of-type {\n",
       "        vertical-align: middle;\n",
       "    }\n",
       "\n",
       "    .dataframe tbody tr th {\n",
       "        vertical-align: top;\n",
       "    }\n",
       "\n",
       "    .dataframe thead th {\n",
       "        text-align: right;\n",
       "    }\n",
       "</style>\n",
       "<table border=\"1\" class=\"dataframe\">\n",
       "  <thead>\n",
       "    <tr style=\"text-align: right;\">\n",
       "      <th></th>\n",
       "      <th>일자</th>\n",
       "      <th>제목</th>\n",
       "    </tr>\n",
       "  </thead>\n",
       "  <tbody>\n",
       "    <tr>\n",
       "      <th>0</th>\n",
       "      <td>2020-02-25</td>\n",
       "      <td>1</td>\n",
       "    </tr>\n",
       "    <tr>\n",
       "      <th>1</th>\n",
       "      <td>2020-02-27</td>\n",
       "      <td>1</td>\n",
       "    </tr>\n",
       "    <tr>\n",
       "      <th>2</th>\n",
       "      <td>2020-02-28</td>\n",
       "      <td>1</td>\n",
       "    </tr>\n",
       "    <tr>\n",
       "      <th>3</th>\n",
       "      <td>2020-02-29</td>\n",
       "      <td>4</td>\n",
       "    </tr>\n",
       "    <tr>\n",
       "      <th>4</th>\n",
       "      <td>2020-03-02</td>\n",
       "      <td>13</td>\n",
       "    </tr>\n",
       "    <tr>\n",
       "      <th>...</th>\n",
       "      <td>...</td>\n",
       "      <td>...</td>\n",
       "    </tr>\n",
       "    <tr>\n",
       "      <th>345</th>\n",
       "      <td>2021-03-17</td>\n",
       "      <td>1</td>\n",
       "    </tr>\n",
       "    <tr>\n",
       "      <th>346</th>\n",
       "      <td>2021-03-19</td>\n",
       "      <td>2</td>\n",
       "    </tr>\n",
       "    <tr>\n",
       "      <th>347</th>\n",
       "      <td>2021-03-21</td>\n",
       "      <td>1</td>\n",
       "    </tr>\n",
       "    <tr>\n",
       "      <th>348</th>\n",
       "      <td>2021-03-22</td>\n",
       "      <td>5</td>\n",
       "    </tr>\n",
       "    <tr>\n",
       "      <th>349</th>\n",
       "      <td>2021-03-25</td>\n",
       "      <td>1</td>\n",
       "    </tr>\n",
       "  </tbody>\n",
       "</table>\n",
       "<p>350 rows × 2 columns</p>\n",
       "</div>"
      ],
      "text/plain": [
       "            일자  제목\n",
       "0   2020-02-25   1\n",
       "1   2020-02-27   1\n",
       "2   2020-02-28   1\n",
       "3   2020-02-29   4\n",
       "4   2020-03-02  13\n",
       "..         ...  ..\n",
       "345 2021-03-17   1\n",
       "346 2021-03-19   2\n",
       "347 2021-03-21   1\n",
       "348 2021-03-22   5\n",
       "349 2021-03-25   1\n",
       "\n",
       "[350 rows x 2 columns]"
      ]
     },
     "execution_count": 25,
     "metadata": {},
     "output_type": "execute_result"
    }
   ],
   "source": [
    "new_covid19 = new_covid19.groupby(by=['일자'], as_index=False).count()\n",
    "new_covid19"
   ]
  },
  {
   "cell_type": "code",
   "execution_count": 6,
   "id": "weird-connectivity",
   "metadata": {},
   "outputs": [
    {
     "name": "stdout",
     "output_type": "stream",
     "text": [
      "430 days, 0:00:00\n",
      "2021-03-25\n"
     ]
    }
   ],
   "source": [
    "from datetime import date\n",
    "from datetime import timedelta\n",
    "\n",
    "# 날짜 2020-01-20 ~ 2021-03-25\n",
    "start = date(2020, 1, 20)\n",
    "end = date(2021, 3, 25)\n",
    "\n",
    "print(end- start)\n",
    "\n",
    "index = []\n",
    "for i in range (0,431) :\n",
    "    date = start + timedelta(i)\n",
    "    index.append(date)\n",
    "\n",
    "print(index[-1])"
   ]
  },
  {
   "cell_type": "code",
   "execution_count": 7,
   "id": "functioning-aspect",
   "metadata": {},
   "outputs": [
    {
     "data": {
      "text/html": [
       "<div>\n",
       "<style scoped>\n",
       "    .dataframe tbody tr th:only-of-type {\n",
       "        vertical-align: middle;\n",
       "    }\n",
       "\n",
       "    .dataframe tbody tr th {\n",
       "        vertical-align: top;\n",
       "    }\n",
       "\n",
       "    .dataframe thead th {\n",
       "        text-align: right;\n",
       "    }\n",
       "</style>\n",
       "<table border=\"1\" class=\"dataframe\">\n",
       "  <thead>\n",
       "    <tr style=\"text-align: right;\">\n",
       "      <th></th>\n",
       "      <th>날짜</th>\n",
       "      <th>뉴스 수</th>\n",
       "    </tr>\n",
       "  </thead>\n",
       "  <tbody>\n",
       "    <tr>\n",
       "      <th>0</th>\n",
       "      <td>2020-01-20</td>\n",
       "      <td>0</td>\n",
       "    </tr>\n",
       "    <tr>\n",
       "      <th>1</th>\n",
       "      <td>2020-01-21</td>\n",
       "      <td>0</td>\n",
       "    </tr>\n",
       "    <tr>\n",
       "      <th>2</th>\n",
       "      <td>2020-01-22</td>\n",
       "      <td>0</td>\n",
       "    </tr>\n",
       "    <tr>\n",
       "      <th>3</th>\n",
       "      <td>2020-01-23</td>\n",
       "      <td>0</td>\n",
       "    </tr>\n",
       "    <tr>\n",
       "      <th>4</th>\n",
       "      <td>2020-01-24</td>\n",
       "      <td>0</td>\n",
       "    </tr>\n",
       "    <tr>\n",
       "      <th>...</th>\n",
       "      <td>...</td>\n",
       "      <td>...</td>\n",
       "    </tr>\n",
       "    <tr>\n",
       "      <th>426</th>\n",
       "      <td>2021-03-21</td>\n",
       "      <td>0</td>\n",
       "    </tr>\n",
       "    <tr>\n",
       "      <th>427</th>\n",
       "      <td>2021-03-22</td>\n",
       "      <td>0</td>\n",
       "    </tr>\n",
       "    <tr>\n",
       "      <th>428</th>\n",
       "      <td>2021-03-23</td>\n",
       "      <td>0</td>\n",
       "    </tr>\n",
       "    <tr>\n",
       "      <th>429</th>\n",
       "      <td>2021-03-24</td>\n",
       "      <td>0</td>\n",
       "    </tr>\n",
       "    <tr>\n",
       "      <th>430</th>\n",
       "      <td>2021-03-25</td>\n",
       "      <td>0</td>\n",
       "    </tr>\n",
       "  </tbody>\n",
       "</table>\n",
       "<p>431 rows × 2 columns</p>\n",
       "</div>"
      ],
      "text/plain": [
       "             날짜  뉴스 수\n",
       "0    2020-01-20     0\n",
       "1    2020-01-21     0\n",
       "2    2020-01-22     0\n",
       "3    2020-01-23     0\n",
       "4    2020-01-24     0\n",
       "..          ...   ...\n",
       "426  2021-03-21     0\n",
       "427  2021-03-22     0\n",
       "428  2021-03-23     0\n",
       "429  2021-03-24     0\n",
       "430  2021-03-25     0\n",
       "\n",
       "[431 rows x 2 columns]"
      ]
     },
     "execution_count": 7,
     "metadata": {},
     "output_type": "execute_result"
    }
   ],
   "source": [
    "news = pd.DataFrame({'날짜' : index, '뉴스 수' : 0})\n",
    "news"
   ]
  },
  {
   "cell_type": "markdown",
   "id": "upset-association",
   "metadata": {},
   "source": [
    "# 날짜를 맞춰준다 \n",
    "- 중간중간 뉴스가 없는 날이 있기 떄문에"
   ]
  },
  {
   "cell_type": "code",
   "execution_count": 8,
   "id": "practical-liabilities",
   "metadata": {},
   "outputs": [
    {
     "name": "stderr",
     "output_type": "stream",
     "text": [
      "C:\\Users\\PC\\anaconda3\\envs\\lab\\lib\\site-packages\\ipykernel_launcher.py:4: SettingWithCopyWarning: \n",
      "A value is trying to be set on a copy of a slice from a DataFrame\n",
      "\n",
      "See the caveats in the documentation: https://pandas.pydata.org/pandas-docs/stable/user_guide/indexing.html#returning-a-view-versus-a-copy\n",
      "  after removing the cwd from sys.path.\n"
     ]
    },
    {
     "data": {
      "text/html": [
       "<div>\n",
       "<style scoped>\n",
       "    .dataframe tbody tr th:only-of-type {\n",
       "        vertical-align: middle;\n",
       "    }\n",
       "\n",
       "    .dataframe tbody tr th {\n",
       "        vertical-align: top;\n",
       "    }\n",
       "\n",
       "    .dataframe thead th {\n",
       "        text-align: right;\n",
       "    }\n",
       "</style>\n",
       "<table border=\"1\" class=\"dataframe\">\n",
       "  <thead>\n",
       "    <tr style=\"text-align: right;\">\n",
       "      <th></th>\n",
       "      <th>날짜</th>\n",
       "      <th>뉴스 수</th>\n",
       "    </tr>\n",
       "  </thead>\n",
       "  <tbody>\n",
       "    <tr>\n",
       "      <th>0</th>\n",
       "      <td>2020-01-20</td>\n",
       "      <td>0</td>\n",
       "    </tr>\n",
       "    <tr>\n",
       "      <th>1</th>\n",
       "      <td>2020-01-21</td>\n",
       "      <td>0</td>\n",
       "    </tr>\n",
       "    <tr>\n",
       "      <th>2</th>\n",
       "      <td>2020-01-22</td>\n",
       "      <td>0</td>\n",
       "    </tr>\n",
       "    <tr>\n",
       "      <th>3</th>\n",
       "      <td>2020-01-23</td>\n",
       "      <td>0</td>\n",
       "    </tr>\n",
       "    <tr>\n",
       "      <th>4</th>\n",
       "      <td>2020-01-24</td>\n",
       "      <td>0</td>\n",
       "    </tr>\n",
       "    <tr>\n",
       "      <th>...</th>\n",
       "      <td>...</td>\n",
       "      <td>...</td>\n",
       "    </tr>\n",
       "    <tr>\n",
       "      <th>426</th>\n",
       "      <td>2021-03-21</td>\n",
       "      <td>1</td>\n",
       "    </tr>\n",
       "    <tr>\n",
       "      <th>427</th>\n",
       "      <td>2021-03-22</td>\n",
       "      <td>5</td>\n",
       "    </tr>\n",
       "    <tr>\n",
       "      <th>428</th>\n",
       "      <td>2021-03-23</td>\n",
       "      <td>0</td>\n",
       "    </tr>\n",
       "    <tr>\n",
       "      <th>429</th>\n",
       "      <td>2021-03-24</td>\n",
       "      <td>0</td>\n",
       "    </tr>\n",
       "    <tr>\n",
       "      <th>430</th>\n",
       "      <td>2021-03-25</td>\n",
       "      <td>1</td>\n",
       "    </tr>\n",
       "  </tbody>\n",
       "</table>\n",
       "<p>431 rows × 2 columns</p>\n",
       "</div>"
      ],
      "text/plain": [
       "             날짜  뉴스 수\n",
       "0    2020-01-20     0\n",
       "1    2020-01-21     0\n",
       "2    2020-01-22     0\n",
       "3    2020-01-23     0\n",
       "4    2020-01-24     0\n",
       "..          ...   ...\n",
       "426  2021-03-21     1\n",
       "427  2021-03-22     5\n",
       "428  2021-03-23     0\n",
       "429  2021-03-24     0\n",
       "430  2021-03-25     1\n",
       "\n",
       "[431 rows x 2 columns]"
      ]
     },
     "execution_count": 8,
     "metadata": {},
     "output_type": "execute_result"
    }
   ],
   "source": [
    "for i in range(len(news)):\n",
    "    for j in range(len(new_covid19)):\n",
    "        if news['날짜'][i] == new_covid19['일자'][j]:\n",
    "            news['뉴스 수'][i] =  new_covid19['제목'][j]\n",
    "            \n",
    "news"
   ]
  },
  {
   "cell_type": "markdown",
   "id": "finite-textbook",
   "metadata": {},
   "source": [
    "# 검색어 데이터"
   ]
  },
  {
   "cell_type": "code",
   "execution_count": 9,
   "id": "irish-thriller",
   "metadata": {},
   "outputs": [
    {
     "data": {
      "text/html": [
       "<div>\n",
       "<style scoped>\n",
       "    .dataframe tbody tr th:only-of-type {\n",
       "        vertical-align: middle;\n",
       "    }\n",
       "\n",
       "    .dataframe tbody tr th {\n",
       "        vertical-align: top;\n",
       "    }\n",
       "\n",
       "    .dataframe thead th {\n",
       "        text-align: right;\n",
       "    }\n",
       "</style>\n",
       "<table border=\"1\" class=\"dataframe\">\n",
       "  <thead>\n",
       "    <tr style=\"text-align: right;\">\n",
       "      <th></th>\n",
       "      <th>날짜</th>\n",
       "      <th>코로나</th>\n",
       "    </tr>\n",
       "  </thead>\n",
       "  <tbody>\n",
       "    <tr>\n",
       "      <th>0</th>\n",
       "      <td>2020-01-20</td>\n",
       "      <td>0.02489</td>\n",
       "    </tr>\n",
       "    <tr>\n",
       "      <th>1</th>\n",
       "      <td>2020-01-21</td>\n",
       "      <td>0.04787</td>\n",
       "    </tr>\n",
       "    <tr>\n",
       "      <th>2</th>\n",
       "      <td>2020-01-22</td>\n",
       "      <td>0.07532</td>\n",
       "    </tr>\n",
       "    <tr>\n",
       "      <th>3</th>\n",
       "      <td>2020-01-23</td>\n",
       "      <td>0.32646</td>\n",
       "    </tr>\n",
       "    <tr>\n",
       "      <th>4</th>\n",
       "      <td>2020-01-24</td>\n",
       "      <td>0.51525</td>\n",
       "    </tr>\n",
       "    <tr>\n",
       "      <th>...</th>\n",
       "      <td>...</td>\n",
       "      <td>...</td>\n",
       "    </tr>\n",
       "    <tr>\n",
       "      <th>426</th>\n",
       "      <td>2021-03-21</td>\n",
       "      <td>3.49346</td>\n",
       "    </tr>\n",
       "    <tr>\n",
       "      <th>427</th>\n",
       "      <td>2021-03-22</td>\n",
       "      <td>4.47571</td>\n",
       "    </tr>\n",
       "    <tr>\n",
       "      <th>428</th>\n",
       "      <td>2021-03-23</td>\n",
       "      <td>4.12057</td>\n",
       "    </tr>\n",
       "    <tr>\n",
       "      <th>429</th>\n",
       "      <td>2021-03-24</td>\n",
       "      <td>4.28381</td>\n",
       "    </tr>\n",
       "    <tr>\n",
       "      <th>430</th>\n",
       "      <td>2021-03-25</td>\n",
       "      <td>4.22427</td>\n",
       "    </tr>\n",
       "  </tbody>\n",
       "</table>\n",
       "<p>431 rows × 2 columns</p>\n",
       "</div>"
      ],
      "text/plain": [
       "             날짜      코로나\n",
       "0    2020-01-20  0.02489\n",
       "1    2020-01-21  0.04787\n",
       "2    2020-01-22  0.07532\n",
       "3    2020-01-23  0.32646\n",
       "4    2020-01-24  0.51525\n",
       "..          ...      ...\n",
       "426  2021-03-21  3.49346\n",
       "427  2021-03-22  4.47571\n",
       "428  2021-03-23  4.12057\n",
       "429  2021-03-24  4.28381\n",
       "430  2021-03-25  4.22427\n",
       "\n",
       "[431 rows x 2 columns]"
      ]
     },
     "execution_count": 9,
     "metadata": {},
     "output_type": "execute_result"
    }
   ],
   "source": [
    "# 코로나 관련 검색어\n",
    "search_covid19 = pd.read_csv(\"datalab.csv\")\n",
    "search_covid19"
   ]
  },
  {
   "cell_type": "markdown",
   "id": "automated-ribbon",
   "metadata": {},
   "source": [
    "# 코로나 데이터"
   ]
  },
  {
   "cell_type": "code",
   "execution_count": 10,
   "id": "rubber-uganda",
   "metadata": {
    "scrolled": false
   },
   "outputs": [
    {
     "data": {
      "text/html": [
       "<div>\n",
       "<style scoped>\n",
       "    .dataframe tbody tr th:only-of-type {\n",
       "        vertical-align: middle;\n",
       "    }\n",
       "\n",
       "    .dataframe tbody tr th {\n",
       "        vertical-align: top;\n",
       "    }\n",
       "\n",
       "    .dataframe thead th {\n",
       "        text-align: right;\n",
       "    }\n",
       "</style>\n",
       "<table border=\"1\" class=\"dataframe\">\n",
       "  <thead>\n",
       "    <tr style=\"text-align: right;\">\n",
       "      <th></th>\n",
       "      <th>decide_per_day</th>\n",
       "      <th>death_per_day</th>\n",
       "      <th>recovered_per_day</th>\n",
       "    </tr>\n",
       "    <tr>\n",
       "      <th>date</th>\n",
       "      <th></th>\n",
       "      <th></th>\n",
       "      <th></th>\n",
       "    </tr>\n",
       "  </thead>\n",
       "  <tbody>\n",
       "    <tr>\n",
       "      <th>2020-01-20</th>\n",
       "      <td>1</td>\n",
       "      <td>0</td>\n",
       "      <td>0</td>\n",
       "    </tr>\n",
       "    <tr>\n",
       "      <th>2020-01-21</th>\n",
       "      <td>0</td>\n",
       "      <td>0</td>\n",
       "      <td>0</td>\n",
       "    </tr>\n",
       "    <tr>\n",
       "      <th>2020-01-22</th>\n",
       "      <td>0</td>\n",
       "      <td>0</td>\n",
       "      <td>0</td>\n",
       "    </tr>\n",
       "    <tr>\n",
       "      <th>2020-01-23</th>\n",
       "      <td>0</td>\n",
       "      <td>0</td>\n",
       "      <td>0</td>\n",
       "    </tr>\n",
       "    <tr>\n",
       "      <th>2020-01-24</th>\n",
       "      <td>1</td>\n",
       "      <td>0</td>\n",
       "      <td>0</td>\n",
       "    </tr>\n",
       "    <tr>\n",
       "      <th>...</th>\n",
       "      <td>...</td>\n",
       "      <td>...</td>\n",
       "      <td>...</td>\n",
       "    </tr>\n",
       "    <tr>\n",
       "      <th>2021-03-21</th>\n",
       "      <td>410</td>\n",
       "      <td>1</td>\n",
       "      <td>283</td>\n",
       "    </tr>\n",
       "    <tr>\n",
       "      <th>2021-03-22</th>\n",
       "      <td>346</td>\n",
       "      <td>7</td>\n",
       "      <td>468</td>\n",
       "    </tr>\n",
       "    <tr>\n",
       "      <th>2021-03-23</th>\n",
       "      <td>425</td>\n",
       "      <td>3</td>\n",
       "      <td>481</td>\n",
       "    </tr>\n",
       "    <tr>\n",
       "      <th>2021-03-24</th>\n",
       "      <td>430</td>\n",
       "      <td>2</td>\n",
       "      <td>508</td>\n",
       "    </tr>\n",
       "    <tr>\n",
       "      <th>2021-03-25</th>\n",
       "      <td>494</td>\n",
       "      <td>7</td>\n",
       "      <td>562</td>\n",
       "    </tr>\n",
       "  </tbody>\n",
       "</table>\n",
       "<p>431 rows × 3 columns</p>\n",
       "</div>"
      ],
      "text/plain": [
       "            decide_per_day  death_per_day  recovered_per_day\n",
       "date                                                        \n",
       "2020-01-20               1              0                  0\n",
       "2020-01-21               0              0                  0\n",
       "2020-01-22               0              0                  0\n",
       "2020-01-23               0              0                  0\n",
       "2020-01-24               1              0                  0\n",
       "...                    ...            ...                ...\n",
       "2021-03-21             410              1                283\n",
       "2021-03-22             346              7                468\n",
       "2021-03-23             425              3                481\n",
       "2021-03-24             430              2                508\n",
       "2021-03-25             494              7                562\n",
       "\n",
       "[431 rows x 3 columns]"
      ]
     },
     "execution_count": 10,
     "metadata": {},
     "output_type": "execute_result"
    }
   ],
   "source": [
    "covid19 = pd.read_csv(\"covid19.csv\",  header=0, index_col='date', squeeze=True)\n",
    "covid19 = covid19[{'decide_per_day', 'recovered_per_day', 'death_per_day'}]\n",
    "\n",
    "covid19"
   ]
  },
  {
   "cell_type": "code",
   "execution_count": 122,
   "id": "framed-consensus",
   "metadata": {},
   "outputs": [
    {
     "data": {
      "text/plain": [
       "267.0399919042277"
      ]
     },
     "execution_count": 122,
     "metadata": {},
     "output_type": "execute_result"
    }
   ],
   "source": [
    "covid19['decide_per_day'].std()"
   ]
  },
  {
   "cell_type": "markdown",
   "id": "structured-endorsement",
   "metadata": {},
   "source": [
    "# 총 데이터 시각화"
   ]
  },
  {
   "cell_type": "code",
   "execution_count": 30,
   "id": "exposed-coral",
   "metadata": {},
   "outputs": [
    {
     "data": {
      "image/png": "[encoded data removed]",
      "text/plain": [
       "<Figure size 432x288 with 1 Axes>"
      ]
     },
     "metadata": {
      "needs_background": "light"
     },
     "output_type": "display_data"
    },
    {
     "data": {
      "image/png": "[encoded data removed]",
      "text/plain": [
       "<Figure size 432x288 with 1 Axes>"
      ]
     },
     "metadata": {
      "needs_background": "light"
     },
     "output_type": "display_data"
    },
    {
     "data": {
      "text/plain": [
       "<AxesSubplot:xlabel='date'>"
      ]
     },
     "execution_count": 30,
     "metadata": {},
     "output_type": "execute_result"
    },
    {
     "data": {
      "image/png": "[encoded data removed]",
      "text/plain": [
       "<Figure size 432x288 with 1 Axes>"
      ]
     },
     "metadata": {
      "needs_background": "light"
     },
     "output_type": "display_data"
    }
   ],
   "source": [
    "search_covid19.plot()\n",
    "\n",
    "plt.figure()\n",
    "ax = sns.countplot(x='일자', data=new_covid19_plot)\n",
    "ax.set_xticklabels(ax.get_xticklabels(), rotation=40)\n",
    "plt.xticks(np.arange(0,350,20))\n",
    "plt.show()\n",
    "\n",
    "covid19.plot()"
   ]
  },
  {
   "cell_type": "markdown",
   "id": "isolated-accordance",
   "metadata": {},
   "source": [
    "# 데이터 형태에 변경 Timestep : 1, lag : 1\n",
    "- 뉴스 데이터"
   ]
  },
  {
   "cell_type": "code",
   "execution_count": 356,
   "id": "resistant-racing",
   "metadata": {},
   "outputs": [
    {
     "name": "stdout",
     "output_type": "stream",
     "text": [
      "news_x :  [4] news_y :  0\n",
      "news_x :  [0] news_y :  13\n",
      "news_x :  [13] news_y :  11\n",
      "news_x :  [11] news_y :  19\n",
      "news_x :  [19] news_y :  13\n",
      "news_x :  [13] news_y :  16\n",
      "news_x :  [16] news_y :  4\n",
      "news_x :  [4] news_y :  5\n",
      "news_x :  [5] news_y :  17\n",
      "news_x :  [17] news_y :  14\n"
     ]
    },
    {
     "data": {
      "text/plain": [
       "(430, 1)"
      ]
     },
     "execution_count": 356,
     "metadata": {},
     "output_type": "execute_result"
    }
   ],
   "source": [
    "news_data = news['뉴스 수'].values\n",
    "\n",
    "timestep = 1\n",
    "lag = 1\n",
    "\n",
    "news_x, news_y = split_data(news_data, timestep)\n",
    "\n",
    "for i in range(40,50):\n",
    "    print('news_x : ',news_x[i], 'news_y : ', news_y[i])\n",
    "    \n",
    "news_x.shape"
   ]
  },
  {
   "cell_type": "markdown",
   "id": "critical-hudson",
   "metadata": {},
   "source": [
    "- 검색어 데이터"
   ]
  },
  {
   "cell_type": "code",
   "execution_count": 357,
   "id": "skilled-vacation",
   "metadata": {},
   "outputs": [
    {
     "name": "stdout",
     "output_type": "stream",
     "text": [
      "search_x :  [0.02489] search_y :  0.04787\n",
      "search_x :  [0.04787] search_y :  0.07532\n",
      "search_x :  [0.07532] search_y :  0.32646\n",
      "search_x :  [0.32646] search_y :  0.51525\n",
      "search_x :  [0.51525] search_y :  0.4662\n",
      "search_x :  [0.4662] search_y :  0.77592\n",
      "search_x :  [0.77592] search_y :  0.84986\n",
      "search_x :  [0.84986] search_y :  1.20562\n",
      "search_x :  [1.20562] search_y :  1.20472\n",
      "search_x :  [1.20472] search_y :  19.26192\n"
     ]
    },
    {
     "data": {
      "text/plain": [
       "(430, 1)"
      ]
     },
     "execution_count": 357,
     "metadata": {},
     "output_type": "execute_result"
    }
   ],
   "source": [
    "search_data = search_covid19['코로나'].values\n",
    "\n",
    "search_x, search_y = split_data(search_data, timestep)\n",
    "\n",
    "for i in range(10):\n",
    "    print('search_x : ',search_x[i], 'search_y : ', search_y[i])\n",
    "    \n",
    "search_x.shape"
   ]
  },
  {
   "cell_type": "code",
   "execution_count": 358,
   "id": "hired-hypothetical",
   "metadata": {},
   "outputs": [
    {
     "data": {
      "text/plain": [
       "(430, 1, 1)"
      ]
     },
     "execution_count": 358,
     "metadata": {},
     "output_type": "execute_result"
    }
   ],
   "source": [
    "# reshape from [samples, timesteps] into [samples, timesteps, features]\n",
    "search_features = 1\n",
    "search_x = search_x.reshape((search_x.shape[0], search_x.shape[1], search_features))\n",
    "search_x.shape"
   ]
  },
  {
   "cell_type": "markdown",
   "id": "temporal-alberta",
   "metadata": {},
   "source": [
    "- 코로나 데이터"
   ]
  },
  {
   "cell_type": "code",
   "execution_count": 359,
   "id": "unknown-count",
   "metadata": {},
   "outputs": [
    {
     "name": "stdout",
     "output_type": "stream",
     "text": [
      "covid_x :  [[813   3   2]] covid_y :  [586]\n",
      "covid_x :  [[586   1   1]] covid_y :  [599]\n",
      "covid_x :  [[599  11   3]] covid_y :  [851]\n",
      "covid_x :  [[851   0   7]] covid_y :  [435]\n",
      "covid_x :  [[435   7  47]] covid_y :  [467]\n",
      "covid_x :  [[467   0  20]] covid_y :  [505]\n",
      "covid_x :  [[505   7  10]] covid_y :  [448]\n",
      "covid_x :  [[448   2  12]] covid_y :  [273]\n",
      "covid_x :  [[273   6  36]] covid_y :  [164]\n",
      "covid_x :  [[164   3  81]] covid_y :  [35]\n"
     ]
    }
   ],
   "source": [
    "covid19_data = covid19.values\n",
    "\n",
    "covid_x, covid_y = split_mult_data(covid19_data, timestep, lag)\n",
    "\n",
    "for i in range(40,50):\n",
    "    print('covid_x : ',covid_x[i], 'covid_y : ', covid_y[i])"
   ]
  },
  {
   "cell_type": "code",
   "execution_count": 360,
   "id": "fleet-clock",
   "metadata": {},
   "outputs": [
    {
     "name": "stdout",
     "output_type": "stream",
     "text": [
      "n_features :  3 / covid_x :  (430, 1, 3)\n"
     ]
    }
   ],
   "source": [
    "covid_features = covid_x.shape[2]\n",
    "print('n_features : ',covid_features, '/ covid_x : ', covid_x.shape)"
   ]
  },
  {
   "cell_type": "markdown",
   "id": "civilian-operations",
   "metadata": {},
   "source": [
    "# Train / Test 분할\n",
    "- 뉴스 데이터"
   ]
  },
  {
   "cell_type": "code",
   "execution_count": 361,
   "id": "manual-business",
   "metadata": {},
   "outputs": [
    {
     "data": {
      "text/plain": [
       "(258, 86, 86, 258, 86, 86, (258, 1))"
      ]
     },
     "execution_count": 361,
     "metadata": {},
     "output_type": "execute_result"
    }
   ],
   "source": [
    "news_train_x, news_val_x, news_test_x, news_train_y, news_val_y, news_test_y = split(news_x, news_y)\n",
    "len(news_train_x), len(news_val_x), len(news_test_x), len(news_train_y), len(news_val_x), len(news_test_y), news_train_x.shape"
   ]
  },
  {
   "cell_type": "markdown",
   "id": "square-remedy",
   "metadata": {},
   "source": [
    "- 검색어 데이터"
   ]
  },
  {
   "cell_type": "code",
   "execution_count": 362,
   "id": "common-editing",
   "metadata": {},
   "outputs": [
    {
     "data": {
      "text/plain": [
       "(258, 86, 86, 258, 86, 86)"
      ]
     },
     "execution_count": 362,
     "metadata": {},
     "output_type": "execute_result"
    }
   ],
   "source": [
    "search_train_x, search_val_x, search_test_x, search_train_y, search_val_y, search_test_y = split(search_x, search_y)\n",
    "len(search_train_x), len(search_val_x), len(search_test_x), len(search_train_y), len(search_val_x), len(search_test_y)"
   ]
  },
  {
   "cell_type": "markdown",
   "id": "sorted-november",
   "metadata": {},
   "source": [
    "- 코로나 데이터"
   ]
  },
  {
   "cell_type": "code",
   "execution_count": 363,
   "id": "constitutional-conditions",
   "metadata": {},
   "outputs": [
    {
     "data": {
      "text/plain": [
       "(258, 86, 86, 258, 86, 86)"
      ]
     },
     "execution_count": 363,
     "metadata": {},
     "output_type": "execute_result"
    }
   ],
   "source": [
    "covid_train_x, covid_val_x, covid_test_x, covid_train_y, covid_val_y, covid_test_y = split(covid_x, covid_y)\n",
    "len(covid_train_x), len(covid_val_x), len(covid_test_x), len(covid_train_y), len(covid_val_x), len(covid_test_y)"
   ]
  },
  {
   "cell_type": "markdown",
   "id": "characteristic-oregon",
   "metadata": {},
   "source": [
    "# 뉴스 / 코로나 데이터 정규화\n",
    "- 검색어 데이터는 이미 되어있으므로 생략"
   ]
  },
  {
   "cell_type": "code",
   "execution_count": 364,
   "id": "absolute-banking",
   "metadata": {},
   "outputs": [
    {
     "data": {
      "text/plain": [
       "(258, 3)"
      ]
     },
     "execution_count": 364,
     "metadata": {},
     "output_type": "execute_result"
    }
   ],
   "source": [
    "######## time_step : 1일 때 ##########\n",
    "# 코로나가 3차원이므로 2차원으로 바꿔준다 - 정규화를 위해서!\n",
    "n_covid_train_x = covid_train_x.reshape(covid_train_x.shape[0], covid_train_x.shape[2])\n",
    "n_covid_val_x = covid_val_x.reshape(covid_val_x.shape[0], covid_val_x.shape[2])\n",
    "n_covid_test_x = covid_test_x.reshape(covid_test_x.shape[0], covid_test_x.shape[2])\n",
    "\n",
    "n_covid_train_x.shape"
   ]
  },
  {
   "cell_type": "code",
   "execution_count": 348,
   "id": "pending-floating",
   "metadata": {},
   "outputs": [
    {
     "data": {
      "text/plain": [
       "(255, 15)"
      ]
     },
     "execution_count": 348,
     "metadata": {},
     "output_type": "execute_result"
    }
   ],
   "source": [
    "######## time_step 1이상 일 때 #########\n",
    "n_covid_train_x = covid_train_x.reshape(covid_train_x.shape[0], covid_train_x.shape[1]*covid_train_x.shape[2])\n",
    "\n",
    "n_covid_val_x = covid_val_x.reshape(covid_val_x.shape[0], covid_train_x.shape[1]*covid_val_x.shape[2])\n",
    "n_covid_test_x = covid_test_x.reshape(covid_test_x.shape[0], covid_train_x.shape[1]*covid_test_x.shape[2])\n",
    "\n",
    "n_covid_train_x.shape"
   ]
  },
  {
   "cell_type": "code",
   "execution_count": 365,
   "id": "individual-playlist",
   "metadata": {},
   "outputs": [],
   "source": [
    "# 데이터 정규화\n",
    "covid_train_x, covid_val_x, covid_test_x = normalization(n_covid_train_x, n_covid_val_x, n_covid_test_x)\n",
    "news_train_x, news_val_x, news_test_x = normalization(news_train_x, news_val_x, news_test_x)"
   ]
  },
  {
   "cell_type": "code",
   "execution_count": 366,
   "id": "charitable-weekly",
   "metadata": {},
   "outputs": [
    {
     "data": {
      "text/plain": [
       "(258, 1, 1)"
      ]
     },
     "execution_count": 366,
     "metadata": {},
     "output_type": "execute_result"
    }
   ],
   "source": [
    "# 형태 변형시켜줌 - 뉴스 데이터\n",
    "news_features = 1\n",
    "news_train_x = news_train_x.reshape((news_train_x.shape[0], news_train_x.shape[1], news_features))\n",
    "news_val_x = news_val_x.reshape((news_val_x.shape[0], news_val_x.shape[1], news_features))\n",
    "news_test_x = news_test_x.reshape((news_test_x.shape[0], news_test_x.shape[1], news_features))\n",
    "\n",
    "news_train_x.shape"
   ]
  },
  {
   "cell_type": "code",
   "execution_count": 367,
   "id": "divine-vintage",
   "metadata": {},
   "outputs": [
    {
     "data": {
      "text/plain": [
       "(258, 1, 3)"
      ]
     },
     "execution_count": 367,
     "metadata": {},
     "output_type": "execute_result"
    }
   ],
   "source": [
    "# 형태 복원 - 코로나 데이터\n",
    "covid_train_x = covid_train_x.reshape(covid_train_x.shape[0], covid_x.shape[1], covid_x.shape[2])\n",
    "covid_val_x = covid_val_x.reshape(covid_val_x.shape[0], covid_x.shape[1], covid_x.shape[2])\n",
    "covid_test_x = covid_test_x.reshape(covid_test_x.shape[0], covid_x.shape[1], covid_x.shape[2])\n",
    "\n",
    "covid_train_x.shape"
   ]
  },
  {
   "cell_type": "markdown",
   "id": "affected-calgary",
   "metadata": {},
   "source": [
    "# 모델 생성\n",
    "- 함수형 API"
   ]
  },
  {
   "cell_type": "code",
   "execution_count": 368,
   "id": "premium-realtor",
   "metadata": {},
   "outputs": [
    {
     "name": "stdout",
     "output_type": "stream",
     "text": [
      "WARNING:tensorflow:Layer lstm_173 will not use cuDNN kernel since it doesn't meet the cuDNN kernel criteria. It will use generic GPU kernel as fallback when running on GPU\n",
      "WARNING:tensorflow:Layer lstm_175 will not use cuDNN kernel since it doesn't meet the cuDNN kernel criteria. It will use generic GPU kernel as fallback when running on GPU\n",
      "WARNING:tensorflow:Layer lstm_177 will not use cuDNN kernel since it doesn't meet the cuDNN kernel criteria. It will use generic GPU kernel as fallback when running on GPU\n",
      "Epoch 1/500\n",
      "17/17 [==============================] - 1s 58ms/step - loss: 25605.3379 - mae: 93.4387 - val_loss: 302364.6875 - val_mae: 413.3805\n",
      "Epoch 2/500\n",
      "17/17 [==============================] - 0s 13ms/step - loss: 25353.1621 - mae: 92.3356 - val_loss: 300273.3750 - val_mae: 411.2669\n",
      "Epoch 3/500\n",
      "17/17 [==============================] - 0s 13ms/step - loss: 24574.4746 - mae: 89.3567 - val_loss: 294168.6562 - val_mae: 405.0733\n",
      "Epoch 4/500\n",
      "17/17 [==============================] - 0s 13ms/step - loss: 23032.9414 - mae: 83.4221 - val_loss: 283062.3438 - val_mae: 393.5863\n",
      "Epoch 5/500\n",
      "17/17 [==============================] - 0s 13ms/step - loss: 20917.1738 - mae: 76.3819 - val_loss: 271541.1250 - val_mae: 381.1861\n",
      "Epoch 6/500\n",
      "17/17 [==============================] - 0s 12ms/step - loss: 18724.0000 - mae: 70.4046 - val_loss: 253405.0469 - val_mae: 361.3813\n",
      "Epoch 7/500\n",
      "17/17 [==============================] - 0s 13ms/step - loss: 16501.6699 - mae: 65.9437 - val_loss: 238969.3750 - val_mae: 345.6767\n",
      "Epoch 8/500\n",
      "17/17 [==============================] - 0s 13ms/step - loss: 15071.7637 - mae: 65.9214 - val_loss: 221113.8906 - val_mae: 327.2418\n",
      "Epoch 9/500\n",
      "17/17 [==============================] - 0s 12ms/step - loss: 14117.8066 - mae: 68.8434 - val_loss: 209393.0156 - val_mae: 316.9074\n",
      "Epoch 10/500\n",
      "17/17 [==============================] - 0s 13ms/step - loss: 13581.6777 - mae: 70.3421 - val_loss: 207974.7969 - val_mae: 317.4612\n",
      "Epoch 11/500\n",
      "17/17 [==============================] - 0s 13ms/step - loss: 13264.4170 - mae: 68.3418 - val_loss: 198536.5625 - val_mae: 309.5750\n",
      "Epoch 12/500\n",
      "17/17 [==============================] - 0s 12ms/step - loss: 12871.1396 - mae: 69.0086 - val_loss: 197460.8594 - val_mae: 310.5714\n",
      "Epoch 13/500\n",
      "17/17 [==============================] - 0s 10ms/step - loss: 12518.9375 - mae: 67.2284 - val_loss: 198435.9062 - val_mae: 314.3156\n",
      "Epoch 14/500\n",
      "17/17 [==============================] - 0s 13ms/step - loss: 12101.6738 - mae: 66.5725 - val_loss: 195520.6562 - val_mae: 313.0732\n",
      "Epoch 15/500\n",
      "17/17 [==============================] - 0s 10ms/step - loss: 11724.4980 - mae: 65.5161 - val_loss: 197406.4688 - val_mae: 316.9774\n",
      "Epoch 16/500\n",
      "17/17 [==============================] - 0s 12ms/step - loss: 11287.8418 - mae: 63.3205 - val_loss: 192371.4844 - val_mae: 312.7493\n",
      "Epoch 17/500\n",
      "17/17 [==============================] - 0s 12ms/step - loss: 11025.6240 - mae: 63.8963 - val_loss: 184172.5156 - val_mae: 304.6582\n",
      "Epoch 18/500\n",
      "17/17 [==============================] - 0s 10ms/step - loss: 10576.1641 - mae: 64.2049 - val_loss: 188376.6406 - val_mae: 310.2555\n",
      "Epoch 19/500\n",
      "17/17 [==============================] - 0s 12ms/step - loss: 10229.3301 - mae: 61.7714 - val_loss: 171307.7656 - val_mae: 292.4925\n",
      "Epoch 20/500\n",
      "17/17 [==============================] - 0s 10ms/step - loss: 9889.0459 - mae: 63.4809 - val_loss: 175357.5000 - val_mae: 297.7029\n",
      "Epoch 21/500\n",
      "17/17 [==============================] - 0s 10ms/step - loss: 9574.6387 - mae: 62.0348 - val_loss: 173226.9844 - val_mae: 295.8079\n",
      "Epoch 22/500\n",
      "17/17 [==============================] - 0s 11ms/step - loss: 9250.2812 - mae: 61.4421 - val_loss: 176694.5781 - val_mae: 300.2383\n",
      "Epoch 23/500\n",
      "17/17 [==============================] - 0s 13ms/step - loss: 8824.1152 - mae: 59.4783 - val_loss: 159051.1562 - val_mae: 281.5116\n",
      "Epoch 24/500\n",
      "17/17 [==============================] - 0s 10ms/step - loss: 8534.5059 - mae: 60.5633 - val_loss: 173336.6250 - val_mae: 297.5988\n",
      "Epoch 25/500\n",
      "17/17 [==============================] - 0s 13ms/step - loss: 8194.4326 - mae: 57.1251 - val_loss: 158991.3906 - val_mae: 282.5316\n",
      "Epoch 26/500\n",
      "17/17 [==============================] - 0s 10ms/step - loss: 8011.9170 - mae: 58.8991 - val_loss: 170195.6875 - val_mae: 295.0782\n",
      "Epoch 27/500\n",
      "17/17 [==============================] - 0s 12ms/step - loss: 7798.9404 - mae: 55.6806 - val_loss: 149327.5156 - val_mae: 272.6777\n",
      "Epoch 28/500\n",
      "17/17 [==============================] - 0s 10ms/step - loss: 7538.7881 - mae: 56.9594 - val_loss: 149981.9375 - val_mae: 273.9185\n",
      "Epoch 29/500\n",
      "17/17 [==============================] - 0s 10ms/step - loss: 7215.2383 - mae: 56.8406 - val_loss: 157729.5625 - val_mae: 282.9141\n",
      "Epoch 30/500\n",
      "17/17 [==============================] - 0s 13ms/step - loss: 7165.1147 - mae: 54.5685 - val_loss: 149015.9062 - val_mae: 274.0314\n",
      "Epoch 31/500\n",
      "17/17 [==============================] - 0s 12ms/step - loss: 6936.3813 - mae: 54.6011 - val_loss: 135250.7031 - val_mae: 259.1245\n",
      "Epoch 32/500\n",
      "17/17 [==============================] - 0s 10ms/step - loss: 6691.2588 - mae: 55.7850 - val_loss: 148648.4375 - val_mae: 275.0455\n",
      "Epoch 33/500\n",
      "17/17 [==============================] - 0s 10ms/step - loss: 6708.5552 - mae: 53.1869 - val_loss: 138789.9062 - val_mae: 264.4918\n",
      "Epoch 34/500\n",
      "17/17 [==============================] - 0s 12ms/step - loss: 6338.0635 - mae: 52.7327 - val_loss: 128493.1875 - val_mae: 253.1707\n",
      "Epoch 35/500\n",
      "17/17 [==============================] - 0s 11ms/step - loss: 6245.5088 - mae: 53.0317 - val_loss: 130855.6484 - val_mae: 256.9007\n",
      "Epoch 36/500\n",
      "17/17 [==============================] - 0s 13ms/step - loss: 5990.8809 - mae: 50.8008 - val_loss: 121436.0000 - val_mae: 246.5587\n",
      "Epoch 37/500\n",
      "17/17 [==============================] - 0s 10ms/step - loss: 5883.8296 - mae: 51.2885 - val_loss: 129230.6641 - val_mae: 256.8001\n",
      "Epoch 38/500\n",
      "17/17 [==============================] - 0s 10ms/step - loss: 5816.6021 - mae: 49.8322 - val_loss: 124299.0469 - val_mae: 251.5973\n",
      "Epoch 39/500\n",
      "17/17 [==============================] - 0s 13ms/step - loss: 5611.3140 - mae: 49.0308 - val_loss: 119399.1172 - val_mae: 246.4365\n",
      "Epoch 40/500\n",
      "17/17 [==============================] - 0s 13ms/step - loss: 5274.2876 - mae: 47.0196 - val_loss: 94954.3984 - val_mae: 215.3486\n",
      "Epoch 41/500\n",
      "17/17 [==============================] - 0s 10ms/step - loss: 5552.5552 - mae: 51.5170 - val_loss: 102699.1641 - val_mae: 226.3507\n",
      "Epoch 42/500\n",
      "17/17 [==============================] - 0s 11ms/step - loss: 5147.1060 - mae: 47.7485 - val_loss: 95575.5078 - val_mae: 217.4112\n",
      "Epoch 43/500\n",
      "17/17 [==============================] - 0s 11ms/step - loss: 5074.7056 - mae: 47.7533 - val_loss: 102046.4922 - val_mae: 227.1733\n",
      "Epoch 44/500\n",
      "17/17 [==============================] - 0s 10ms/step - loss: 4962.3521 - mae: 46.6527 - val_loss: 105586.4297 - val_mae: 232.9088\n",
      "Epoch 45/500\n",
      "17/17 [==============================] - 0s 11ms/step - loss: 4802.8179 - mae: 44.9300 - val_loss: 96900.9922 - val_mae: 222.0731\n",
      "Epoch 46/500\n",
      "17/17 [==============================] - 0s 10ms/step - loss: 4614.5000 - mae: 44.4398 - val_loss: 98860.1875 - val_mae: 225.9860\n",
      "Epoch 47/500\n",
      "17/17 [==============================] - 0s 13ms/step - loss: 4525.1470 - mae: 43.7356 - val_loss: 83939.4453 - val_mae: 206.0782\n",
      "Epoch 48/500\n",
      "17/17 [==============================] - 0s 13ms/step - loss: 4308.3936 - mae: 42.2843 - val_loss: 71902.1016 - val_mae: 188.4515\n",
      "Epoch 49/500\n",
      "17/17 [==============================] - 0s 12ms/step - loss: 4212.2295 - mae: 42.9674 - val_loss: 67878.7422 - val_mae: 183.1605\n",
      "Epoch 50/500\n",
      "17/17 [==============================] - 0s 10ms/step - loss: 4061.9290 - mae: 42.2537 - val_loss: 69016.0703 - val_mae: 186.5026\n",
      "Epoch 51/500\n",
      "17/17 [==============================] - 0s 13ms/step - loss: 3812.0039 - mae: 40.2247 - val_loss: 66829.0469 - val_mae: 184.3441\n",
      "Epoch 52/500\n",
      "17/17 [==============================] - 0s 13ms/step - loss: 3745.5405 - mae: 40.3867 - val_loss: 61307.0703 - val_mae: 176.2207\n",
      "Epoch 53/500\n",
      "17/17 [==============================] - 0s 13ms/step - loss: 3701.5618 - mae: 38.6980 - val_loss: 57062.9297 - val_mae: 170.2291\n",
      "Epoch 54/500\n"
     ]
    },
    {
     "name": "stdout",
     "output_type": "stream",
     "text": [
      "17/17 [==============================] - 0s 12ms/step - loss: 3588.2634 - mae: 37.5050 - val_loss: 49302.9414 - val_mae: 156.5931\n",
      "Epoch 55/500\n",
      "17/17 [==============================] - 0s 13ms/step - loss: 3382.2378 - mae: 36.5919 - val_loss: 40823.7383 - val_mae: 140.3769\n",
      "Epoch 56/500\n",
      "17/17 [==============================] - 0s 10ms/step - loss: 3345.3474 - mae: 37.5558 - val_loss: 45986.8906 - val_mae: 152.4641\n",
      "Epoch 57/500\n",
      "17/17 [==============================] - 0s 13ms/step - loss: 3325.7253 - mae: 34.6968 - val_loss: 36687.2539 - val_mae: 133.1931\n",
      "Epoch 58/500\n",
      "17/17 [==============================] - 0s 13ms/step - loss: 3133.9214 - mae: 34.6872 - val_loss: 35507.6211 - val_mae: 131.8356\n",
      "Epoch 59/500\n",
      "17/17 [==============================] - 0s 10ms/step - loss: 3062.1226 - mae: 34.3032 - val_loss: 38894.5078 - val_mae: 141.5359\n",
      "Epoch 60/500\n",
      "17/17 [==============================] - 0s 13ms/step - loss: 3055.2205 - mae: 32.9608 - val_loss: 29014.5957 - val_mae: 117.5123\n",
      "Epoch 61/500\n",
      "17/17 [==============================] - 0s 13ms/step - loss: 2952.6743 - mae: 33.1549 - val_loss: 26852.4473 - val_mae: 112.9024\n",
      "Epoch 62/500\n",
      "17/17 [==============================] - 0s 10ms/step - loss: 2887.9001 - mae: 32.7136 - val_loss: 29566.7910 - val_mae: 121.3463\n",
      "Epoch 63/500\n",
      "17/17 [==============================] - 0s 12ms/step - loss: 2852.6528 - mae: 31.7458 - val_loss: 24963.6328 - val_mae: 109.0750\n",
      "Epoch 64/500\n",
      "17/17 [==============================] - 0s 10ms/step - loss: 2791.2354 - mae: 32.0224 - val_loss: 27155.9922 - val_mae: 116.5796\n",
      "Epoch 65/500\n",
      "17/17 [==============================] - 0s 12ms/step - loss: 2776.7708 - mae: 30.8958 - val_loss: 23760.2109 - val_mae: 107.5033\n",
      "Epoch 66/500\n",
      "17/17 [==============================] - 0s 13ms/step - loss: 2802.2202 - mae: 31.6738 - val_loss: 22721.8906 - val_mae: 104.7823\n",
      "Epoch 67/500\n",
      "17/17 [==============================] - 0s 13ms/step - loss: 2692.5657 - mae: 31.1934 - val_loss: 19725.5488 - val_mae: 95.7643\n",
      "Epoch 68/500\n",
      "17/17 [==============================] - 0s 10ms/step - loss: 2720.9026 - mae: 30.4858 - val_loss: 21156.2891 - val_mae: 101.5846\n",
      "Epoch 69/500\n",
      "17/17 [==============================] - 0s 12ms/step - loss: 2749.5408 - mae: 29.9816 - val_loss: 19051.3828 - val_mae: 94.9739\n",
      "Epoch 70/500\n",
      "17/17 [==============================] - 0s 10ms/step - loss: 2715.0256 - mae: 30.3035 - val_loss: 19158.4512 - val_mae: 95.1282\n",
      "Epoch 71/500\n",
      "17/17 [==============================] - 0s 10ms/step - loss: 2707.3645 - mae: 30.0401 - val_loss: 19142.3711 - val_mae: 95.4520\n",
      "Epoch 72/500\n",
      "17/17 [==============================] - 0s 13ms/step - loss: 2717.7385 - mae: 29.5614 - val_loss: 16403.0801 - val_mae: 86.5369\n",
      "Epoch 73/500\n",
      "17/17 [==============================] - 0s 10ms/step - loss: 2663.0032 - mae: 29.8955 - val_loss: 20444.3066 - val_mae: 100.3609\n",
      "Epoch 74/500\n",
      "17/17 [==============================] - 0s 10ms/step - loss: 2589.9785 - mae: 29.4734 - val_loss: 17057.6738 - val_mae: 89.2562\n",
      "Epoch 75/500\n",
      "17/17 [==============================] - 0s 13ms/step - loss: 2578.0625 - mae: 29.2541 - val_loss: 15517.7588 - val_mae: 84.4937\n",
      "Epoch 76/500\n",
      "17/17 [==============================] - 0s 12ms/step - loss: 2561.5198 - mae: 28.7982 - val_loss: 14036.6289 - val_mae: 79.8550\n",
      "Epoch 77/500\n",
      "17/17 [==============================] - 0s 10ms/step - loss: 2600.4446 - mae: 29.1571 - val_loss: 16117.8955 - val_mae: 86.8911\n",
      "Epoch 78/500\n",
      "17/17 [==============================] - 0s 13ms/step - loss: 2612.2498 - mae: 29.1218 - val_loss: 13420.4131 - val_mae: 77.4390\n",
      "Epoch 79/500\n",
      "17/17 [==============================] - 0s 10ms/step - loss: 2657.8904 - mae: 29.6658 - val_loss: 15746.5303 - val_mae: 85.5383\n",
      "Epoch 80/500\n",
      "17/17 [==============================] - 0s 10ms/step - loss: 2598.9299 - mae: 28.7955 - val_loss: 15669.2979 - val_mae: 85.6444\n",
      "Epoch 81/500\n",
      "17/17 [==============================] - 0s 13ms/step - loss: 2551.7461 - mae: 28.4288 - val_loss: 11731.1963 - val_mae: 72.0340\n",
      "Epoch 82/500\n",
      "17/17 [==============================] - 0s 10ms/step - loss: 2606.3855 - mae: 28.7027 - val_loss: 13044.5527 - val_mae: 76.7393\n",
      "Epoch 83/500\n",
      "17/17 [==============================] - 0s 11ms/step - loss: 2526.3337 - mae: 28.5599 - val_loss: 13896.8027 - val_mae: 79.4472\n",
      "Epoch 84/500\n",
      "17/17 [==============================] - 0s 10ms/step - loss: 2647.4426 - mae: 28.6046 - val_loss: 12039.7021 - val_mae: 73.2095\n",
      "Epoch 85/500\n",
      "17/17 [==============================] - 0s 10ms/step - loss: 2519.7493 - mae: 28.3318 - val_loss: 12830.3906 - val_mae: 76.4577\n",
      "Epoch 86/500\n",
      "17/17 [==============================] - 0s 10ms/step - loss: 2609.7634 - mae: 27.6792 - val_loss: 12008.6973 - val_mae: 73.3531\n",
      "Epoch 87/500\n",
      "17/17 [==============================] - 0s 10ms/step - loss: 2619.1741 - mae: 28.0935 - val_loss: 14322.9072 - val_mae: 81.4436\n",
      "Epoch 88/500\n",
      "17/17 [==============================] - 0s 10ms/step - loss: 2529.8896 - mae: 28.2645 - val_loss: 13873.6699 - val_mae: 79.9853\n",
      "Epoch 89/500\n",
      "17/17 [==============================] - 0s 10ms/step - loss: 2501.1060 - mae: 27.9661 - val_loss: 13639.0039 - val_mae: 78.9328\n",
      "Epoch 90/500\n",
      "17/17 [==============================] - 0s 10ms/step - loss: 2454.2922 - mae: 27.7100 - val_loss: 12087.0059 - val_mae: 73.6110\n",
      "Epoch 91/500\n",
      "17/17 [==============================] - 0s 10ms/step - loss: 2568.1047 - mae: 28.1976 - val_loss: 14006.4492 - val_mae: 80.3435\n",
      "Epoch 92/500\n",
      "17/17 [==============================] - 0s 10ms/step - loss: 2606.3708 - mae: 27.6379 - val_loss: 13585.7236 - val_mae: 78.8313\n",
      "Epoch 93/500\n",
      "17/17 [==============================] - 0s 10ms/step - loss: 2510.8740 - mae: 28.3787 - val_loss: 15437.5410 - val_mae: 85.2567\n",
      "Epoch 94/500\n",
      "17/17 [==============================] - 0s 10ms/step - loss: 2564.6667 - mae: 28.1272 - val_loss: 14237.9824 - val_mae: 80.9271\n",
      "Epoch 95/500\n",
      "17/17 [==============================] - 0s 10ms/step - loss: 2557.0413 - mae: 28.1153 - val_loss: 14494.4365 - val_mae: 81.9584\n",
      "Epoch 96/500\n",
      "17/17 [==============================] - 0s 10ms/step - loss: 2462.3643 - mae: 27.3614 - val_loss: 12834.1494 - val_mae: 76.0866\n",
      "Epoch 97/500\n",
      "17/17 [==============================] - 0s 10ms/step - loss: 2427.9114 - mae: 27.8162 - val_loss: 12042.5762 - val_mae: 73.1619\n",
      "Epoch 98/500\n",
      "17/17 [==============================] - 0s 12ms/step - loss: 2553.6094 - mae: 28.0460 - val_loss: 10563.6045 - val_mae: 67.7530\n",
      "Epoch 99/500\n",
      "17/17 [==============================] - 0s 10ms/step - loss: 2496.4070 - mae: 28.1111 - val_loss: 14138.2852 - val_mae: 80.8453\n",
      "Epoch 100/500\n",
      "17/17 [==============================] - 0s 10ms/step - loss: 2514.3591 - mae: 27.2558 - val_loss: 16931.8730 - val_mae: 89.9083\n",
      "Epoch 101/500\n",
      "17/17 [==============================] - 0s 10ms/step - loss: 2512.9038 - mae: 27.7563 - val_loss: 14454.1602 - val_mae: 81.0193\n",
      "Epoch 102/500\n",
      "17/17 [==============================] - 0s 10ms/step - loss: 2423.6958 - mae: 27.5173 - val_loss: 12143.5508 - val_mae: 73.3784\n",
      "Epoch 103/500\n",
      "17/17 [==============================] - 0s 10ms/step - loss: 2459.9402 - mae: 28.0774 - val_loss: 16432.9805 - val_mae: 88.4457\n",
      "Epoch 104/500\n",
      "17/17 [==============================] - 0s 10ms/step - loss: 2519.7827 - mae: 27.1367 - val_loss: 15691.5215 - val_mae: 85.6277\n",
      "Epoch 105/500\n",
      "17/17 [==============================] - 0s 10ms/step - loss: 2506.0518 - mae: 27.4577 - val_loss: 14603.2734 - val_mae: 82.0760\n",
      "Epoch 106/500\n",
      "17/17 [==============================] - 0s 10ms/step - loss: 2496.6667 - mae: 27.7233 - val_loss: 13537.0332 - val_mae: 78.3616\n",
      "Epoch 107/500\n",
      "17/17 [==============================] - 0s 10ms/step - loss: 2527.9846 - mae: 27.2689 - val_loss: 13679.6426 - val_mae: 79.0709\n",
      "Epoch 108/500\n",
      "17/17 [==============================] - 0s 10ms/step - loss: 2492.8379 - mae: 27.4074 - val_loss: 12152.3096 - val_mae: 73.6318\n",
      "Epoch 109/500\n",
      "17/17 [==============================] - 0s 11ms/step - loss: 2435.4277 - mae: 27.5678 - val_loss: 12736.6641 - val_mae: 75.6116\n",
      "Epoch 110/500\n",
      "17/17 [==============================] - 0s 10ms/step - loss: 2528.9612 - mae: 27.6119 - val_loss: 16307.7705 - val_mae: 87.4349\n",
      "Epoch 111/500\n"
     ]
    },
    {
     "name": "stdout",
     "output_type": "stream",
     "text": [
      "17/17 [==============================] - 0s 10ms/step - loss: 2500.2917 - mae: 27.5265 - val_loss: 14979.7090 - val_mae: 82.6497\n",
      "Epoch 112/500\n",
      "17/17 [==============================] - 0s 10ms/step - loss: 2421.8958 - mae: 26.6546 - val_loss: 13165.8662 - val_mae: 76.7837\n",
      "Epoch 113/500\n",
      "17/17 [==============================] - 0s 10ms/step - loss: 2451.2725 - mae: 27.4766 - val_loss: 13746.3213 - val_mae: 79.0804\n",
      "Epoch 114/500\n",
      "17/17 [==============================] - 0s 10ms/step - loss: 2448.3508 - mae: 27.1636 - val_loss: 14245.4912 - val_mae: 80.7417\n",
      "Epoch 115/500\n",
      "17/17 [==============================] - 0s 10ms/step - loss: 2441.3726 - mae: 26.5562 - val_loss: 13396.9043 - val_mae: 77.8190\n",
      "Epoch 116/500\n",
      "17/17 [==============================] - 0s 10ms/step - loss: 2410.6582 - mae: 26.8041 - val_loss: 12705.0898 - val_mae: 75.2933\n",
      "Epoch 117/500\n",
      "17/17 [==============================] - 0s 10ms/step - loss: 2393.5488 - mae: 27.1106 - val_loss: 14145.8574 - val_mae: 80.3294\n",
      "Epoch 118/500\n",
      "17/17 [==============================] - 0s 10ms/step - loss: 2416.8467 - mae: 26.6432 - val_loss: 13042.1729 - val_mae: 76.3544\n"
     ]
    }
   ],
   "source": [
    "from keras.models import Model\n",
    "from keras import layers\n",
    "from keras import Input\n",
    "import keras\n",
    "from keras.callbacks import EarlyStopping\n",
    "from sklearn.metrics import mean_squared_error, explained_variance_score\n",
    "\n",
    "input_news = Input(shape=(timestep, news_features))\n",
    "lstm_n1 = layers.LSTM(64, return_sequences=True)(input_news) # 뉴스\n",
    "lstm_n2 = layers.LSTM(32, activation='relu', return_sequences= False)(lstm_n1)\n",
    "\n",
    "input_search = Input(shape=(timestep, search_features))\n",
    "lstm_s1 = layers.LSTM(64, return_sequences=True)(input_search) # 검색어\n",
    "lstm_s2 = layers.LSTM(32, activation='relu', return_sequences= False)(lstm_s1)\n",
    "\n",
    "input_covid = Input(shape=(timestep, covid_features)) # 코로나\n",
    "lstm_c1 = layers.LSTM(64, return_sequences=True)(input_covid)\n",
    "lstm_c2 = layers.LSTM(32, activation='relu', return_sequences= False)(lstm_c1)\n",
    "\n",
    "# 연결\n",
    "concatenated = layers.concatenate([lstm_n2, lstm_s2, lstm_c2])\n",
    "x = layers.Dense(32, activation='relu')(concatenated)\n",
    "\n",
    "result = layers.Dense(lag)(x)\n",
    "\n",
    "\n",
    "model = Model([input_news, input_search, input_covid], result)\n",
    "model.compile(optimizer='rmsprop', loss=['mse'], metrics=['mae'])\n",
    "\n",
    "callback_list = [\n",
    "  keras.callbacks.EarlyStopping(\n",
    "    monitor='val_loss', # 모델의 검증 정확도 모니터링\n",
    "    patience=20, # 1 에포크보다 더 길게 향상되지 않으면 중단\n",
    "  ),\n",
    "  keras.callbacks.ModelCheckpoint(\n",
    "    filepath='my_model.h5', # 저장\n",
    "    monitor='val_loss',\n",
    "    save_best_only=True, # 가장 좋은 모델\n",
    "  )\n",
    "]\n",
    "# batch_size : batch_size만큼 보고 가중치를 업데이트 주겠다\n",
    "hist = model.fit([news_train_x, search_train_x, covid_train_x], covid_train_y, epochs=500, batch_size=16, callbacks=callback_list, validation_data=([news_val_x, search_val_x, covid_val_x], covid_val_y))"
   ]
  },
  {
   "cell_type": "code",
   "execution_count": 198,
   "id": "central-budapest",
   "metadata": {},
   "outputs": [
    {
     "data": {
      "image/png": "[encoded data removed]",
      "text/plain": [
       "<IPython.core.display.Image object>"
      ]
     },
     "execution_count": 198,
     "metadata": {},
     "output_type": "execute_result"
    }
   ],
   "source": [
    "from keras.utils import plot_model\n",
    "plot_model(model, to_file='model_20210124.png', show_shapes=True)"
   ]
  },
  {
   "cell_type": "code",
   "execution_count": 369,
   "id": "inside-basic",
   "metadata": {},
   "outputs": [
    {
     "data": {
      "image/png": "[encoded data removed]",
      "text/plain": [
       "<Figure size 432x288 with 1 Axes>"
      ]
     },
     "metadata": {
      "needs_background": "light"
     },
     "output_type": "display_data"
    }
   ],
   "source": [
    "# 학습 시각화 함수\n",
    "def learning_graph(hist):\n",
    "    fig, loss_ax = plt.subplots()\n",
    "    loss_ax.plot(hist.history['loss'],'g', label='train loss')\n",
    "    loss_ax.plot(hist.history['val_loss'],'b', label='val loss')\n",
    "    loss_ax.set_xlabel('epoch')\n",
    "    loss_ax.set_ylabel('loss')\n",
    "    loss_ax.legend(loc='upper left')\n",
    "    plt.show()\n",
    "    \n",
    "learning_graph(hist)"
   ]
  },
  {
   "cell_type": "code",
   "execution_count": 370,
   "id": "prescription-listening",
   "metadata": {
    "scrolled": false
   },
   "outputs": [
    {
     "name": "stdout",
     "output_type": "stream",
     "text": [
      "WARNING:tensorflow:5 out of the last 13 calls to <function Model.make_predict_function.<locals>.predict_function at 0x00000203658AC948> triggered tf.function retracing. Tracing is expensive and the excessive number of tracings could be due to (1) creating @tf.function repeatedly in a loop, (2) passing tensors with different shapes, (3) passing Python objects instead of tensors. For (1), please define your @tf.function outside of the loop. For (2), @tf.function has experimental_relax_shapes=True option that relaxes argument shapes that can avoid unnecessary retracing. For (3), please refer to https://www.tensorflow.org/tutorials/customization/performance#python_or_tensor_args and https://www.tensorflow.org/api_docs/python/tf/function for  more details.\n",
      "RMSE:  85.09\n",
      "R-Square:  0.69\n"
     ]
    },
    {
     "data": {
      "image/png": "[encoded data removed]",
      "text/plain": [
       "<Figure size 432x288 with 1 Axes>"
      ]
     },
     "metadata": {
      "needs_background": "light"
     },
     "output_type": "display_data"
    },
    {
     "name": "stdout",
     "output_type": "stream",
     "text": [
      "    y_test   y_predict\n",
      "0      967  891.516907\n",
      "1     1029  851.537598\n",
      "2      824  875.462891\n",
      "3      651  724.017334\n",
      "4     1020  630.562195\n",
      "..     ...         ...\n",
      "81     410  435.202240\n",
      "82     346  386.132660\n",
      "83     425  340.848846\n",
      "84     430  423.471283\n",
      "85     494  433.098419\n",
      "\n",
      "[86 rows x 2 columns]\n"
     ]
    }
   ],
   "source": [
    "# 실제값, 예측값 그래프\n",
    "y_predict = model.predict([news_test_x, search_test_x, covid_test_x])\n",
    "\n",
    "# 에러율 - Root Mean Squared Error\n",
    "rmse = np.sqrt(mean_squared_error(y_predict, covid_test_y))\n",
    "print('RMSE: ',rmse.round(2))\n",
    "\n",
    "r = explained_variance_score(covid_test_y, y_predict)\n",
    "print('R-Square: ',r.round(2))\n",
    "\n",
    "fig, loss_ax = plt.subplots()\n",
    "loss_ax.plot(covid_test_y, label='y_test')\n",
    "loss_ax.plot(y_predict, label='y_predict')\n",
    "loss_ax.legend(loc='upper left')\n",
    "plt.show()\n",
    "\n",
    "df = pd.DataFrame(covid_test_y)\n",
    "df.insert(1,'y_predict',y_predict)\n",
    "df.rename(columns={0:'y_test'}, inplace=True)\n",
    "print(df)"
   ]
  }
 ],
 "metadata": {
  "kernelspec": {
   "display_name": "lab",
   "language": "python",
   "name": "lab"
  },
  "language_info": {
   "codemirror_mode": {
    "name": "ipython",
    "version": 3
   },
   "file_extension": ".py",
   "mimetype": "text/x-python",
   "name": "python",
   "nbconvert_exporter": "python",
   "pygments_lexer": "ipython3",
   "version": "3.7.9"
  }
 },
 "nbformat": 4,
 "nbformat_minor": 5
}
